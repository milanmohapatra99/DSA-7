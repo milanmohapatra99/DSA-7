{
 "cells": [
  {
   "cell_type": "markdown",
   "id": "053d89d9",
   "metadata": {},
   "source": [
    "Q1. Given two strings s and t, *determine if they are isomorphic*.\n",
    "\n",
    "Two strings s and t are isomorphic if the characters in s can be replaced to get t.\n",
    "\n",
    "All occurrences of a character must be replaced with another character while preserving the order of characters. No two characters may map to the same character, but a character may map to itself."
   ]
  },
  {
   "cell_type": "code",
   "execution_count": 1,
   "id": "bed22095",
   "metadata": {},
   "outputs": [],
   "source": [
    "def isomorphic_strings(s, t):\n",
    "    if len(s) != len(t):\n",
    "        return False\n",
    "\n",
    "    char_map_s = {}\n",
    "    char_map_t = {}\n",
    "\n",
    "    for c_s, c_t in zip(s, t):\n",
    "        if c_s in char_map_s and c_t in char_map_t:\n",
    "            if char_map_s[c_s] != c_t or char_map_t[c_t] != c_s:\n",
    "                return False\n",
    "        elif c_s not in char_map_s and c_t not in char_map_t:\n",
    "            char_map_s[c_s] = c_t\n",
    "            char_map_t[c_t] = c_s\n",
    "        else:\n",
    "            return False\n",
    "\n",
    "    return True\n"
   ]
  },
  {
   "cell_type": "markdown",
   "id": "b42c0b81",
   "metadata": {},
   "source": [
    "Q2. Given a string num which represents an integer, return true *if* num *is a **strobogrammatic number***.\n",
    "\n",
    "A **strobogrammatic number** is a number that looks the same when rotated 180 degrees (looked at upside down)."
   ]
  },
  {
   "cell_type": "code",
   "execution_count": 2,
   "id": "ef6cc8bc",
   "metadata": {},
   "outputs": [],
   "source": [
    "def isomorphic_strings(s, t):\n",
    "    if len(s) != len(t):\n",
    "        return False\n",
    "\n",
    "    char_map_s = {}\n",
    "    char_map_t = {}\n",
    "\n",
    "    for c_s, c_t in zip(s, t):\n",
    "        if c_s in char_map_s and c_t in char_map_t:\n",
    "            if char_map_s[c_s] != c_t or char_map_t[c_t] != c_s:\n",
    "                return False\n",
    "        elif c_s not in char_map_s and c_t not in char_map_t:\n",
    "            char_map_s[c_s] = c_t\n",
    "            char_map_t[c_t] = c_s\n",
    "        else:\n",
    "            return False\n",
    "\n",
    "    return True\n"
   ]
  },
  {
   "cell_type": "markdown",
   "id": "ecd43551",
   "metadata": {},
   "source": [
    "Q3. Given two non-negative integers, num1 and num2 represented as string, return *the sum of* num1 *and* num2 *as a string*.\n",
    "\n",
    "You must solve the problem without using any built-in library for handling large integers (such as BigInteger). You must also not convert the inputs to integers directly."
   ]
  },
  {
   "cell_type": "code",
   "execution_count": 3,
   "id": "713a0b8e",
   "metadata": {},
   "outputs": [],
   "source": [
    "def addStrings(num1, num2):\n",
    "    result = \"\"\n",
    "    p1, p2 = len(num1) - 1, len(num2) - 1\n",
    "    carry = 0\n",
    "\n",
    "    while p1 >= 0 or p2 >= 0:\n",
    "        x = int(num1[p1]) if p1 >= 0 else 0\n",
    "        y = int(num2[p2]) if p2 >= 0 else 0\n",
    "        curr_sum = x + y + carry\n",
    "        carry = curr_sum // 10\n",
    "        digit = curr_sum % 10\n",
    "        result = str(digit) + result\n",
    "        p1 -= 1\n",
    "        p2 -= 1\n",
    "\n",
    "    if carry > 0:\n",
    "        result = str(carry) + result\n",
    "\n",
    "    return result\n"
   ]
  },
  {
   "cell_type": "markdown",
   "id": "a11079d6",
   "metadata": {},
   "source": [
    "Q4. Given a string s, reverse the order of characters in each word within a sentence while still preserving whitespace and initial word order."
   ]
  },
  {
   "cell_type": "code",
   "execution_count": 4,
   "id": "f5fa4ee2",
   "metadata": {},
   "outputs": [],
   "source": [
    "def reverseWords(s):\n",
    "    words = s.split()\n",
    "    reversed_words = []\n",
    "\n",
    "    for word in words:\n",
    "        reversed_word = word[::-1]\n",
    "        reversed_words.append(reversed_word)\n",
    "\n",
    "    reversed_sentence = ' '.join(reversed_words)\n",
    "    return reversed_sentence\n"
   ]
  },
  {
   "cell_type": "markdown",
   "id": "bf55d9fb",
   "metadata": {},
   "source": [
    "Q5. Given a string s and an integer k, reverse the first k characters for every 2k characters counting from the start of the string.\n",
    "\n",
    "If there are fewer than k characters left, reverse all of them. If there are less than 2k but greater than or equal to k characters, then reverse the first k characters and leave the other as original."
   ]
  },
  {
   "cell_type": "code",
   "execution_count": 5,
   "id": "2475f5ed",
   "metadata": {},
   "outputs": [],
   "source": [
    "def reverseStr(s, k):\n",
    "    segments = []\n",
    "\n",
    "    for i in range(0, len(s), 2 * k):\n",
    "        segment = s[i:i+k]\n",
    "        reversed_segment = segment[::-1] if len(segment) >= k else segment\n",
    "        segments.append(reversed_segment)\n",
    "\n",
    "    return ''.join(segments)\n"
   ]
  },
  {
   "cell_type": "markdown",
   "id": "5537f880",
   "metadata": {},
   "source": [
    "Q6. Given two strings s and goal, return true *if and only if* s *can become* goal *after some number of **shifts** on* s.\n",
    "\n",
    "A **shift** on s consists of moving the leftmost character of s to the rightmost position.\n",
    "\n",
    "- For example, if s = \"abcde\", then it will be \"bcdea\" after one shift."
   ]
  },
  {
   "cell_type": "code",
   "execution_count": 6,
   "id": "16c5327f",
   "metadata": {},
   "outputs": [],
   "source": [
    "def canConvertString(s, goal):\n",
    "    if len(s) != len(goal):\n",
    "        return False\n",
    "\n",
    "    s_concat = s + s\n",
    "\n",
    "    return goal in s_concat\n"
   ]
  },
  {
   "cell_type": "markdown",
   "id": "43d030bd",
   "metadata": {},
   "source": [
    "Q7. Given two strings s and t, return true *if they are equal when both are typed into empty text editors*. '#' means a backspace character.\n",
    "\n",
    "Note that after backspacing an empty text, the text will continue empty"
   ]
  },
  {
   "cell_type": "code",
   "execution_count": 7,
   "id": "adabeb02",
   "metadata": {},
   "outputs": [],
   "source": [
    "def applyBackspaces(string):\n",
    "    stack = []\n",
    "\n",
    "    for char in string:\n",
    "        if char != '#':\n",
    "            stack.append(char)\n",
    "        elif stack:\n",
    "            stack.pop()\n",
    "\n",
    "    return ''.join(stack)\n",
    "\n",
    "def backspaceCompare(s, t):\n",
    "    final_s = applyBackspaces(s)\n",
    "    final_t = applyBackspaces(t)\n",
    "\n",
    "    return final_s == final_t\n"
   ]
  },
  {
   "cell_type": "markdown",
   "id": "0fad1b30",
   "metadata": {},
   "source": [
    "Q8.You are given an array coordinates, coordinates[i] = [x, y], where [x, y] represents the coordinate of a point. Check if these points make a straight line in the XY plane."
   ]
  },
  {
   "cell_type": "code",
   "execution_count": null,
   "id": "9a85e257",
   "metadata": {},
   "outputs": [],
   "source": []
  }
 ],
 "metadata": {
  "kernelspec": {
   "display_name": "Python 3 (ipykernel)",
   "language": "python",
   "name": "python3"
  },
  "language_info": {
   "codemirror_mode": {
    "name": "ipython",
    "version": 3
   },
   "file_extension": ".py",
   "mimetype": "text/x-python",
   "name": "python",
   "nbconvert_exporter": "python",
   "pygments_lexer": "ipython3",
   "version": "3.10.9"
  }
 },
 "nbformat": 4,
 "nbformat_minor": 5
}
